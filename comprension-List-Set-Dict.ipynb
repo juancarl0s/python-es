{
 "cells": [
  {
   "cell_type": "markdown",
   "metadata": {},
   "source": [
    "Hola mente de simio 🧠 🦍"
   ]
  },
  {
   "cell_type": "markdown",
   "metadata": {},
   "source": [
    "# List, Set, Dict comprehension en español"
   ]
  },
  {
   "cell_type": "markdown",
   "metadata": {},
   "source": [
    "# Comprensión de lista (List), grupo (Set), diccionario (Dict)\n",
    "\n",
    "Crea una nueva lista filtrando elementos de una **colección** (List / Set / Dict), cada elemento es transformada por una sola **expresión**. La filtración puede ser hecha de forma condicional, dada por una **condición** (opcional).\n",
    "\n",
    "> [**expresion** for valor in **colección** if **condición**] \n",
    "\n",
    "Lo cual es equivalente a:\n",
    "```python\n",
    "resultado = []\n",
    "for valor in colleccion:\n",
    "    if condicion:\n",
    "        resultado.append(expresion)\n",
    "```\n",
    "\n",
    "## Comprensión anidada\n",
    "Las comprensiones se pueden anidar, de igual formar que se pueden anidar loops.\n",
    "\n",
    "> [**expresion** for valor in colección if **condición** for valor2 in **colección2** if **condición2** ]\n",
    "\n",
    "Nota: \n",
    " - **colección** y **colección2** pueden ser la misma colección\n",
    " - **condición** y **condición2** pueden ser la misma condición\n",
    " \n",
    "Lo cual es equivalente a:\n",
    "```python\n",
    "resultado = []\n",
    "for valor in colleccion:\n",
    "    if condicion:\n",
    "        for valor2 in coleccion2:\n",
    "            if condicion2:\n",
    "                resultado.append(expresion)\n",
    "```"
   ]
  },
  {
   "cell_type": "markdown",
   "metadata": {},
   "source": [
    "### Ejemplo - sin comprensión de lista, usando un loop:"
   ]
  },
  {
   "cell_type": "code",
   "execution_count": 1,
   "metadata": {},
   "outputs": [
    {
     "name": "stdout",
     "output_type": "stream",
     "text": [
      "frutasMayus: ['MANGO', 'MANZANA', 'PERA']\n"
     ]
    }
   ],
   "source": [
    "frutas = [\"mango\", \"manzana\", \"pera\"]\n",
    "\n",
    "# En forma de for loop\n",
    "# Convertimos las frutas en mayúsculas\n",
    "frutasMayus = []\n",
    "for fr in frutas:\n",
    "    if fr.islower():\n",
    "        frutasMayus.append(fr.upper())\n",
    "\n",
    "print(\"frutasMayus:\", frutasMayus)"
   ]
  },
  {
   "cell_type": "markdown",
   "metadata": {},
   "source": [
    "### Ejemplo - comprensión de lista:"
   ]
  },
  {
   "cell_type": "code",
   "execution_count": 2,
   "metadata": {},
   "outputs": [
    {
     "name": "stdout",
     "output_type": "stream",
     "text": [
      "frutasMayus: ['MANGO', 'MANZANA', 'PERA']\n"
     ]
    }
   ],
   "source": [
    "frutas = [\"mango\", \"manzana\", \"pera\"]\n",
    "\n",
    "# Usando comprensión de lista\n",
    "# Convertimos las frutas en mayúsculas\n",
    "frutasMayus = [fr.upper() for fr in frutas if fr.islower()]\n",
    "\n",
    "print(\"frutasMayus:\", frutasMayus)"
   ]
  },
  {
   "cell_type": "markdown",
   "metadata": {},
   "source": [
    "### Ejemplo - comprensión de lista anidata:"
   ]
  },
  {
   "cell_type": "code",
   "execution_count": 3,
   "metadata": {},
   "outputs": [
    {
     "name": "stdout",
     "output_type": "stream",
     "text": [
      "ingredientes_e: ['cebolla', 'aceite']\n"
     ]
    }
   ],
   "source": [
    "ingredientes = [[\"mango\", \"manzana\", \"cebolla\"], [], [\"sal\", \"azúcar\", \"aceite\"]]\n",
    "\n",
    "# Usando comprensión de lista anidada\n",
    "# Creamos una lista solo con los ingredientes que tienen \"e\"\n",
    "ingredientes_e = [ingr for ingrSublista in ingredientes\n",
    "                      for ingr in ingrSublista if \"e\" in ingr]\n",
    "\n",
    "print(\"ingredientes_e:\", ingredientes_e)"
   ]
  },
  {
   "cell_type": "markdown",
   "metadata": {},
   "source": [
    "### Ejemplo - comprensión de lista dentro de otra comprensión de lista:"
   ]
  },
  {
   "cell_type": "code",
   "execution_count": 4,
   "metadata": {},
   "outputs": [
    {
     "name": "stdout",
     "output_type": "stream",
     "text": [
      "ingredientes_o: [['MANGO'], ['CEBOLLA', 'APIO']]\n"
     ]
    }
   ],
   "source": [
    "ingredientes_en_listas = [[\"mango\", \"manzana\"], [\"cebolla\", \"apio\"]]\n",
    "# Usando comprensión de lista anidada\n",
    "# Removemos los ingredientes que no tienen \"o\"\n",
    "ingredientes_o = [[ingr.upper() for ingr in lista if \"o\" in ingr] \n",
    "                  for lista in ingredientes_en_listas]\n",
    "\n",
    "print(\"ingredientes_o:\", ingredientes_o)"
   ]
  },
  {
   "cell_type": "markdown",
   "metadata": {},
   "source": [
    "### Ejemplo - comprensión de grupo:"
   ]
  },
  {
   "cell_type": "code",
   "execution_count": 5,
   "metadata": {},
   "outputs": [
    {
     "data": {
      "text/plain": [
       "{'MANGO', 'MANZANA', 'PERA'}"
      ]
     },
     "execution_count": 5,
     "metadata": {},
     "output_type": "execute_result"
    }
   ],
   "source": [
    "frutas_grupo = {\"mango\", \"manzana\", \"pera\"}\n",
    "\n",
    "frutas_mayus = {fruta.upper() for fruta in frutas_grupo if fruta.islower()}\n",
    "\n",
    "frutas_mayus"
   ]
  },
  {
   "cell_type": "markdown",
   "metadata": {},
   "source": [
    "### Ejemplos - comprensión de diccionario:"
   ]
  },
  {
   "cell_type": "markdown",
   "metadata": {},
   "source": [
    "#### Ejemplos - comprensión de diccionario sobre una lista:"
   ]
  },
  {
   "cell_type": "code",
   "execution_count": 6,
   "metadata": {},
   "outputs": [
    {
     "data": {
      "text/plain": [
       "{'MANGO!'}"
      ]
     },
     "execution_count": 6,
     "metadata": {},
     "output_type": "execute_result"
    }
   ],
   "source": [
    "frutas = [\"mango\", \"manzana\", \"pera\"]\n",
    "\n",
    "frutas_set_o = {fruta.upper()+\"!\" for fruta in frutas if \"o\" in fruta}\n",
    "\n",
    "frutas_set_o"
   ]
  },
  {
   "cell_type": "markdown",
   "metadata": {},
   "source": [
    "#### Ejemplos - comprensión de diccionario sobre un diccionario:"
   ]
  },
  {
   "cell_type": "code",
   "execution_count": 7,
   "metadata": {},
   "outputs": [
    {
     "data": {
      "text/plain": [
       "{'MANGO': 'AMARILLO', 'MANZANA': 'ROJO'}"
      ]
     },
     "execution_count": 7,
     "metadata": {},
     "output_type": "execute_result"
    }
   ],
   "source": [
    "frutas_dict = {\"mango\": \"amarillo\", \"manzana\": \"rojo\", \"pera\": \"verde\"}\n",
    "\n",
    "frutas_dict_o = {fruta.upper() : color.upper()\n",
    "                     for fruta, color in frutas_dict.items() if \"o\" in color}\n",
    "\n",
    "frutas_dict_o"
   ]
  },
  {
   "cell_type": "markdown",
   "metadata": {},
   "source": [
    "Adiós mente de simio 🧠 🦍"
   ]
  }
 ],
 "metadata": {
  "kernelspec": {
   "display_name": "Python 3",
   "language": "python",
   "name": "python3"
  },
  "language_info": {
   "codemirror_mode": {
    "name": "ipython",
    "version": 3
   },
   "file_extension": ".py",
   "mimetype": "text/x-python",
   "name": "python",
   "nbconvert_exporter": "python",
   "pygments_lexer": "ipython3",
   "version": "3.8.3"
  }
 },
 "nbformat": 4,
 "nbformat_minor": 4
}
